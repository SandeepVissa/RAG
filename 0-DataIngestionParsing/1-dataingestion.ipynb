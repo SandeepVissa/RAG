{
 "cells": [
  {
   "cell_type": "code",
   "execution_count": 1,
   "id": "52c02f7a3e7122a6",
   "metadata": {
    "ExecuteTime": {
     "end_time": "2025-10-06T19:43:37.008930Z",
     "start_time": "2025-10-06T19:43:36.998757Z"
    }
   },
   "outputs": [],
   "source": [
    "import pandas as pd\n",
    "import os\n",
    "from typing import List,Dict,Any"
   ]
  },
  {
   "cell_type": "code",
   "execution_count": 2,
   "id": "33a2c2c4",
   "metadata": {},
   "outputs": [
    {
     "name": "stdout",
     "output_type": "stream",
     "text": [
      "Setup Completed\n"
     ]
    }
   ],
   "source": [
    "from langchain_core.documents import Document\n",
    "from langchain_text_splitters import(\n",
    "    RecursiveCharacterTextSplitter,\n",
    "    CharacterTextSplitter,\n",
    "    TokenTextSplitter\n",
    ")\n",
    "print('Setup Completed')"
   ]
  },
  {
   "cell_type": "markdown",
   "id": "07e091ea",
   "metadata": {},
   "source": [
    "### Understanding Document Structure in Langchain"
   ]
  },
  {
   "cell_type": "code",
   "execution_count": 3,
   "id": "14bbd0b9",
   "metadata": {},
   "outputs": [
    {
     "name": "stdout",
     "output_type": "stream",
     "text": [
      "Printing Document structure\n",
      "content: This is a test document\n",
      "metadata: {'source': 'test.txt', 'author': 'Sandeep Vissa'}\n"
     ]
    }
   ],
   "source": [
    "#create a simple Document\n",
    "doc = Document(\n",
    "    page_content = 'This is a test document',\n",
    "    metadata = {'source': 'test.txt',\n",
    "                'author':'Sandeep Vissa'}\n",
    ")\n",
    "print('Printing Document structure')\n",
    "print(f'content: {doc.page_content}')\n",
    "print(f'metadata: {doc.metadata}')"
   ]
  },
  {
   "cell_type": "markdown",
   "id": "9f73d18d",
   "metadata": {},
   "source": [
    "### Reading Text(.txt) Files"
   ]
  },
  {
   "cell_type": "code",
   "execution_count": 4,
   "id": "26cf965b",
   "metadata": {},
   "outputs": [],
   "source": [
    "#create simple txt files\n",
    "import os\n",
    "os.makedirs('data/text_files',exist_ok=True)"
   ]
  },
  {
   "cell_type": "code",
   "execution_count": 5,
   "id": "a736251e",
   "metadata": {},
   "outputs": [
    {
     "name": "stdout",
     "output_type": "stream",
     "text": [
      "✅ Sample text files created!\n"
     ]
    }
   ],
   "source": [
    "sample_texts={\n",
    "    \"data/text_files/python_intro.txt\":\"\"\"Python Programming Introduction\n",
    "\n",
    "Python is a high-level, interpreted programming language known for its simplicity and readability.\n",
    "Created by Guido van Rossum and first released in 1991, Python has become one of the most popular\n",
    "programming languages in the world.\n",
    "\n",
    "Key Features:\n",
    "- Easy to learn and use\n",
    "- Extensive standard library\n",
    "- Cross-platform compatibility\n",
    "- Strong community support\n",
    "\n",
    "Python is widely used in web development, data science, artificial intelligence, and automation.\"\"\",\n",
    "    \n",
    "    \"data/text_files/machine_learning.txt\": \"\"\"Machine Learning Basics\n",
    "\n",
    "Machine learning is a subset of artificial intelligence that enables systems to learn and improve\n",
    "from experience without being explicitly programmed. It focuses on developing computer programs\n",
    "that can access data and use it to learn for themselves.\n",
    "\n",
    "Types of Machine Learning:\n",
    "1. Supervised Learning: Learning with labeled data\n",
    "2. Unsupervised Learning: Finding patterns in unlabeled data\n",
    "3. Reinforcement Learning: Learning through rewards and penalties\n",
    "\n",
    "Applications include image recognition, speech processing, and recommendation systems\n",
    "    \n",
    "    \n",
    "    \"\"\"\n",
    "\n",
    "}\n",
    "\n",
    "for filepath,content in sample_texts.items():\n",
    "    with open(filepath,'w',encoding=\"utf-8\") as f:\n",
    "        f.write(content)\n",
    "\n",
    "print(\"✅ Sample text files created!\")"
   ]
  },
  {
   "cell_type": "markdown",
   "id": "a6d63f3e",
   "metadata": {},
   "source": [
    "### Text Loader"
   ]
  },
  {
   "cell_type": "code",
   "execution_count": 11,
   "id": "33e598c5",
   "metadata": {},
   "outputs": [
    {
     "name": "stdout",
     "output_type": "stream",
     "text": [
      "loaded 1 Document\n",
      "Content preview: Python Programming Introduction\n",
      "\n",
      "Python is a high-level, interpreted programming language known for \n",
      "Metadata: {'source': 'data/text_files/python_intro.txt'}\n"
     ]
    }
   ],
   "source": [
    "\n",
    "from langchain.document_loaders import TextLoader\n",
    "loader = TextLoader('data/text_files/python_intro.txt',encoding='utf-8')\n",
    "documents = loader.load()\n",
    "#print(type(documents))\n",
    "#print(documents)\n",
    "print(f'loaded {len(documents)} Document')\n",
    "print(f'Content preview: {documents[0].page_content[:100]}')\n",
    "print(f'Metadata: {documents[0].metadata}')"
   ]
  },
  {
   "cell_type": "code",
   "execution_count": null,
   "id": "84165779",
   "metadata": {},
   "outputs": [],
   "source": []
  }
 ],
 "metadata": {
  "kernelspec": {
   "display_name": "Python 3",
   "language": "python",
   "name": "python3"
  },
  "language_info": {
   "codemirror_mode": {
    "name": "ipython",
    "version": 3
   },
   "file_extension": ".py",
   "mimetype": "text/x-python",
   "name": "python",
   "nbconvert_exporter": "python",
   "pygments_lexer": "ipython3",
   "version": "3.10.13"
  }
 },
 "nbformat": 4,
 "nbformat_minor": 5
}
